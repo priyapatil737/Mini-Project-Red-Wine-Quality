{
  "nbformat": 4,
  "nbformat_minor": 0,
  "metadata": {
    "colab": {
      "name": "miniprj",
      "provenance": [],
      "collapsed_sections": [],
      "mount_file_id": "171tHkkWM280q_iC67IHPYEBBGBuV1TwP",
      "authorship_tag": "ABX9TyNsDzy+QIjcu7fh8Aq6zBvX",
      "include_colab_link": true
    },
    "kernelspec": {
      "name": "python3",
      "display_name": "Python 3"
    }
  },
  "cells": [
    {
      "cell_type": "markdown",
      "metadata": {
        "id": "view-in-github",
        "colab_type": "text"
      },
      "source": [
        "<a href=\"https://colab.research.google.com/github/priyapatil737/Mini-Project-Red-Wine-Quality/blob/master/miniprj.ipynb\" target=\"_parent\"><img src=\"https://colab.research.google.com/assets/colab-badge.svg\" alt=\"Open In Colab\"/></a>"
      ]
    },
    {
      "cell_type": "code",
      "metadata": {
        "id": "KhUaMd5GjHQW",
        "colab_type": "code",
        "colab": {}
      },
      "source": [
        "import pandas as pd\n",
        "import numpy as np\n",
        "import matplotlib.pyplot as plt\n"
      ],
      "execution_count": 235,
      "outputs": []
    },
    {
      "cell_type": "code",
      "metadata": {
        "id": "ogrAOyLzqe8b",
        "colab_type": "code",
        "colab": {}
      },
      "source": [
        "#RED WINE QUALITY PREDICTION"
      ],
      "execution_count": 41,
      "outputs": []
    },
    {
      "cell_type": "code",
      "metadata": {
        "id": "C48PF-vekF0f",
        "colab_type": "code",
        "colab": {}
      },
      "source": [
        "df=pd.read_csv(\"/content/drive/My Drive/Python/ML/datasets_4458_8204_winequality-red.csv\")"
      ],
      "execution_count": 196,
      "outputs": []
    },
    {
      "cell_type": "code",
      "metadata": {
        "id": "c3EH4uOilMxC",
        "colab_type": "code",
        "colab": {
          "base_uri": "https://localhost:8080/",
          "height": 402
        },
        "outputId": "0ce4d50b-e99c-4e8e-f2ec-d148751fbd93"
      },
      "source": [
        "df"
      ],
      "execution_count": 197,
      "outputs": [
        {
          "output_type": "execute_result",
          "data": {
            "text/html": [
              "<div>\n",
              "<style scoped>\n",
              "    .dataframe tbody tr th:only-of-type {\n",
              "        vertical-align: middle;\n",
              "    }\n",
              "\n",
              "    .dataframe tbody tr th {\n",
              "        vertical-align: top;\n",
              "    }\n",
              "\n",
              "    .dataframe thead th {\n",
              "        text-align: right;\n",
              "    }\n",
              "</style>\n",
              "<table border=\"1\" class=\"dataframe\">\n",
              "  <thead>\n",
              "    <tr style=\"text-align: right;\">\n",
              "      <th></th>\n",
              "      <th>fixed acidity</th>\n",
              "      <th>volatile acidity</th>\n",
              "      <th>citric acid</th>\n",
              "      <th>residual sugar</th>\n",
              "      <th>chlorides</th>\n",
              "      <th>free sulfur dioxide</th>\n",
              "      <th>total sulfur dioxide</th>\n",
              "      <th>density</th>\n",
              "      <th>pH</th>\n",
              "      <th>sulphates</th>\n",
              "      <th>alcohol</th>\n",
              "      <th>quality</th>\n",
              "    </tr>\n",
              "  </thead>\n",
              "  <tbody>\n",
              "    <tr>\n",
              "      <th>0</th>\n",
              "      <td>7.4</td>\n",
              "      <td>0.700</td>\n",
              "      <td>0.00</td>\n",
              "      <td>1.9</td>\n",
              "      <td>0.076</td>\n",
              "      <td>11.0</td>\n",
              "      <td>34.0</td>\n",
              "      <td>0.99780</td>\n",
              "      <td>3.51</td>\n",
              "      <td>0.56</td>\n",
              "      <td>9.4</td>\n",
              "      <td>5</td>\n",
              "    </tr>\n",
              "    <tr>\n",
              "      <th>1</th>\n",
              "      <td>7.8</td>\n",
              "      <td>0.880</td>\n",
              "      <td>0.00</td>\n",
              "      <td>2.6</td>\n",
              "      <td>0.098</td>\n",
              "      <td>25.0</td>\n",
              "      <td>67.0</td>\n",
              "      <td>0.99680</td>\n",
              "      <td>3.20</td>\n",
              "      <td>0.68</td>\n",
              "      <td>9.8</td>\n",
              "      <td>5</td>\n",
              "    </tr>\n",
              "    <tr>\n",
              "      <th>2</th>\n",
              "      <td>7.8</td>\n",
              "      <td>0.760</td>\n",
              "      <td>0.04</td>\n",
              "      <td>2.3</td>\n",
              "      <td>0.092</td>\n",
              "      <td>15.0</td>\n",
              "      <td>54.0</td>\n",
              "      <td>0.99700</td>\n",
              "      <td>3.26</td>\n",
              "      <td>0.65</td>\n",
              "      <td>9.8</td>\n",
              "      <td>5</td>\n",
              "    </tr>\n",
              "    <tr>\n",
              "      <th>3</th>\n",
              "      <td>11.2</td>\n",
              "      <td>0.280</td>\n",
              "      <td>0.56</td>\n",
              "      <td>1.9</td>\n",
              "      <td>0.075</td>\n",
              "      <td>17.0</td>\n",
              "      <td>60.0</td>\n",
              "      <td>0.99800</td>\n",
              "      <td>3.16</td>\n",
              "      <td>0.58</td>\n",
              "      <td>9.8</td>\n",
              "      <td>6</td>\n",
              "    </tr>\n",
              "    <tr>\n",
              "      <th>4</th>\n",
              "      <td>7.4</td>\n",
              "      <td>0.700</td>\n",
              "      <td>0.00</td>\n",
              "      <td>1.9</td>\n",
              "      <td>0.076</td>\n",
              "      <td>11.0</td>\n",
              "      <td>34.0</td>\n",
              "      <td>0.99780</td>\n",
              "      <td>3.51</td>\n",
              "      <td>0.56</td>\n",
              "      <td>9.4</td>\n",
              "      <td>5</td>\n",
              "    </tr>\n",
              "    <tr>\n",
              "      <th>...</th>\n",
              "      <td>...</td>\n",
              "      <td>...</td>\n",
              "      <td>...</td>\n",
              "      <td>...</td>\n",
              "      <td>...</td>\n",
              "      <td>...</td>\n",
              "      <td>...</td>\n",
              "      <td>...</td>\n",
              "      <td>...</td>\n",
              "      <td>...</td>\n",
              "      <td>...</td>\n",
              "      <td>...</td>\n",
              "    </tr>\n",
              "    <tr>\n",
              "      <th>1594</th>\n",
              "      <td>6.2</td>\n",
              "      <td>0.600</td>\n",
              "      <td>0.08</td>\n",
              "      <td>2.0</td>\n",
              "      <td>0.090</td>\n",
              "      <td>32.0</td>\n",
              "      <td>44.0</td>\n",
              "      <td>0.99490</td>\n",
              "      <td>3.45</td>\n",
              "      <td>0.58</td>\n",
              "      <td>10.5</td>\n",
              "      <td>5</td>\n",
              "    </tr>\n",
              "    <tr>\n",
              "      <th>1595</th>\n",
              "      <td>5.9</td>\n",
              "      <td>0.550</td>\n",
              "      <td>0.10</td>\n",
              "      <td>2.2</td>\n",
              "      <td>0.062</td>\n",
              "      <td>39.0</td>\n",
              "      <td>51.0</td>\n",
              "      <td>0.99512</td>\n",
              "      <td>3.52</td>\n",
              "      <td>0.76</td>\n",
              "      <td>11.2</td>\n",
              "      <td>6</td>\n",
              "    </tr>\n",
              "    <tr>\n",
              "      <th>1596</th>\n",
              "      <td>6.3</td>\n",
              "      <td>0.510</td>\n",
              "      <td>0.13</td>\n",
              "      <td>2.3</td>\n",
              "      <td>0.076</td>\n",
              "      <td>29.0</td>\n",
              "      <td>40.0</td>\n",
              "      <td>0.99574</td>\n",
              "      <td>3.42</td>\n",
              "      <td>0.75</td>\n",
              "      <td>11.0</td>\n",
              "      <td>6</td>\n",
              "    </tr>\n",
              "    <tr>\n",
              "      <th>1597</th>\n",
              "      <td>5.9</td>\n",
              "      <td>0.645</td>\n",
              "      <td>0.12</td>\n",
              "      <td>2.0</td>\n",
              "      <td>0.075</td>\n",
              "      <td>32.0</td>\n",
              "      <td>44.0</td>\n",
              "      <td>0.99547</td>\n",
              "      <td>3.57</td>\n",
              "      <td>0.71</td>\n",
              "      <td>10.2</td>\n",
              "      <td>5</td>\n",
              "    </tr>\n",
              "    <tr>\n",
              "      <th>1598</th>\n",
              "      <td>6.0</td>\n",
              "      <td>0.310</td>\n",
              "      <td>0.47</td>\n",
              "      <td>3.6</td>\n",
              "      <td>0.067</td>\n",
              "      <td>18.0</td>\n",
              "      <td>42.0</td>\n",
              "      <td>0.99549</td>\n",
              "      <td>3.39</td>\n",
              "      <td>0.66</td>\n",
              "      <td>11.0</td>\n",
              "      <td>6</td>\n",
              "    </tr>\n",
              "  </tbody>\n",
              "</table>\n",
              "<p>1599 rows × 12 columns</p>\n",
              "</div>"
            ],
            "text/plain": [
              "      fixed acidity  volatile acidity  citric acid  ...  sulphates  alcohol  quality\n",
              "0               7.4             0.700         0.00  ...       0.56      9.4        5\n",
              "1               7.8             0.880         0.00  ...       0.68      9.8        5\n",
              "2               7.8             0.760         0.04  ...       0.65      9.8        5\n",
              "3              11.2             0.280         0.56  ...       0.58      9.8        6\n",
              "4               7.4             0.700         0.00  ...       0.56      9.4        5\n",
              "...             ...               ...          ...  ...        ...      ...      ...\n",
              "1594            6.2             0.600         0.08  ...       0.58     10.5        5\n",
              "1595            5.9             0.550         0.10  ...       0.76     11.2        6\n",
              "1596            6.3             0.510         0.13  ...       0.75     11.0        6\n",
              "1597            5.9             0.645         0.12  ...       0.71     10.2        5\n",
              "1598            6.0             0.310         0.47  ...       0.66     11.0        6\n",
              "\n",
              "[1599 rows x 12 columns]"
            ]
          },
          "metadata": {
            "tags": []
          },
          "execution_count": 197
        }
      ]
    },
    {
      "cell_type": "code",
      "metadata": {
        "id": "uITDPhyllOEW",
        "colab_type": "code",
        "colab": {
          "base_uri": "https://localhost:8080/",
          "height": 195
        },
        "outputId": "ee315e46-a73a-434f-d6ca-a4e2cfd764e1"
      },
      "source": [
        "df.head()"
      ],
      "execution_count": 198,
      "outputs": [
        {
          "output_type": "execute_result",
          "data": {
            "text/html": [
              "<div>\n",
              "<style scoped>\n",
              "    .dataframe tbody tr th:only-of-type {\n",
              "        vertical-align: middle;\n",
              "    }\n",
              "\n",
              "    .dataframe tbody tr th {\n",
              "        vertical-align: top;\n",
              "    }\n",
              "\n",
              "    .dataframe thead th {\n",
              "        text-align: right;\n",
              "    }\n",
              "</style>\n",
              "<table border=\"1\" class=\"dataframe\">\n",
              "  <thead>\n",
              "    <tr style=\"text-align: right;\">\n",
              "      <th></th>\n",
              "      <th>fixed acidity</th>\n",
              "      <th>volatile acidity</th>\n",
              "      <th>citric acid</th>\n",
              "      <th>residual sugar</th>\n",
              "      <th>chlorides</th>\n",
              "      <th>free sulfur dioxide</th>\n",
              "      <th>total sulfur dioxide</th>\n",
              "      <th>density</th>\n",
              "      <th>pH</th>\n",
              "      <th>sulphates</th>\n",
              "      <th>alcohol</th>\n",
              "      <th>quality</th>\n",
              "    </tr>\n",
              "  </thead>\n",
              "  <tbody>\n",
              "    <tr>\n",
              "      <th>0</th>\n",
              "      <td>7.4</td>\n",
              "      <td>0.70</td>\n",
              "      <td>0.00</td>\n",
              "      <td>1.9</td>\n",
              "      <td>0.076</td>\n",
              "      <td>11.0</td>\n",
              "      <td>34.0</td>\n",
              "      <td>0.9978</td>\n",
              "      <td>3.51</td>\n",
              "      <td>0.56</td>\n",
              "      <td>9.4</td>\n",
              "      <td>5</td>\n",
              "    </tr>\n",
              "    <tr>\n",
              "      <th>1</th>\n",
              "      <td>7.8</td>\n",
              "      <td>0.88</td>\n",
              "      <td>0.00</td>\n",
              "      <td>2.6</td>\n",
              "      <td>0.098</td>\n",
              "      <td>25.0</td>\n",
              "      <td>67.0</td>\n",
              "      <td>0.9968</td>\n",
              "      <td>3.20</td>\n",
              "      <td>0.68</td>\n",
              "      <td>9.8</td>\n",
              "      <td>5</td>\n",
              "    </tr>\n",
              "    <tr>\n",
              "      <th>2</th>\n",
              "      <td>7.8</td>\n",
              "      <td>0.76</td>\n",
              "      <td>0.04</td>\n",
              "      <td>2.3</td>\n",
              "      <td>0.092</td>\n",
              "      <td>15.0</td>\n",
              "      <td>54.0</td>\n",
              "      <td>0.9970</td>\n",
              "      <td>3.26</td>\n",
              "      <td>0.65</td>\n",
              "      <td>9.8</td>\n",
              "      <td>5</td>\n",
              "    </tr>\n",
              "    <tr>\n",
              "      <th>3</th>\n",
              "      <td>11.2</td>\n",
              "      <td>0.28</td>\n",
              "      <td>0.56</td>\n",
              "      <td>1.9</td>\n",
              "      <td>0.075</td>\n",
              "      <td>17.0</td>\n",
              "      <td>60.0</td>\n",
              "      <td>0.9980</td>\n",
              "      <td>3.16</td>\n",
              "      <td>0.58</td>\n",
              "      <td>9.8</td>\n",
              "      <td>6</td>\n",
              "    </tr>\n",
              "    <tr>\n",
              "      <th>4</th>\n",
              "      <td>7.4</td>\n",
              "      <td>0.70</td>\n",
              "      <td>0.00</td>\n",
              "      <td>1.9</td>\n",
              "      <td>0.076</td>\n",
              "      <td>11.0</td>\n",
              "      <td>34.0</td>\n",
              "      <td>0.9978</td>\n",
              "      <td>3.51</td>\n",
              "      <td>0.56</td>\n",
              "      <td>9.4</td>\n",
              "      <td>5</td>\n",
              "    </tr>\n",
              "  </tbody>\n",
              "</table>\n",
              "</div>"
            ],
            "text/plain": [
              "   fixed acidity  volatile acidity  citric acid  ...  sulphates  alcohol  quality\n",
              "0            7.4              0.70         0.00  ...       0.56      9.4        5\n",
              "1            7.8              0.88         0.00  ...       0.68      9.8        5\n",
              "2            7.8              0.76         0.04  ...       0.65      9.8        5\n",
              "3           11.2              0.28         0.56  ...       0.58      9.8        6\n",
              "4            7.4              0.70         0.00  ...       0.56      9.4        5\n",
              "\n",
              "[5 rows x 12 columns]"
            ]
          },
          "metadata": {
            "tags": []
          },
          "execution_count": 198
        }
      ]
    },
    {
      "cell_type": "code",
      "metadata": {
        "id": "vLpqX54x9sl-",
        "colab_type": "code",
        "colab": {
          "base_uri": "https://localhost:8080/",
          "height": 336
        },
        "outputId": "17711ef3-555c-4798-b1ae-2fdde6b014ec"
      },
      "source": [
        "df.info()"
      ],
      "execution_count": 199,
      "outputs": [
        {
          "output_type": "stream",
          "text": [
            "<class 'pandas.core.frame.DataFrame'>\n",
            "RangeIndex: 1599 entries, 0 to 1598\n",
            "Data columns (total 12 columns):\n",
            " #   Column                Non-Null Count  Dtype  \n",
            "---  ------                --------------  -----  \n",
            " 0   fixed acidity         1599 non-null   float64\n",
            " 1   volatile acidity      1599 non-null   float64\n",
            " 2   citric acid           1599 non-null   float64\n",
            " 3   residual sugar        1599 non-null   float64\n",
            " 4   chlorides             1599 non-null   float64\n",
            " 5   free sulfur dioxide   1599 non-null   float64\n",
            " 6   total sulfur dioxide  1599 non-null   float64\n",
            " 7   density               1599 non-null   float64\n",
            " 8   pH                    1599 non-null   float64\n",
            " 9   sulphates             1599 non-null   float64\n",
            " 10  alcohol               1599 non-null   float64\n",
            " 11  quality               1599 non-null   int64  \n",
            "dtypes: float64(11), int64(1)\n",
            "memory usage: 150.0 KB\n"
          ],
          "name": "stdout"
        }
      ]
    },
    {
      "cell_type": "code",
      "metadata": {
        "id": "zGcjPnyClTVz",
        "colab_type": "code",
        "colab": {}
      },
      "source": [
        "x = df.iloc[:,:11].values\n",
        "y = df.iloc[:,11].values"
      ],
      "execution_count": 237,
      "outputs": []
    },
    {
      "cell_type": "code",
      "metadata": {
        "id": "6TGLzl_xleK0",
        "colab_type": "code",
        "colab": {}
      },
      "source": [
        "#Linear Regression\n",
        "from sklearn.linear_model import LinearRegression"
      ],
      "execution_count": 238,
      "outputs": []
    },
    {
      "cell_type": "code",
      "metadata": {
        "id": "cDJ6t_Jbe8tg",
        "colab_type": "code",
        "colab": {
          "base_uri": "https://localhost:8080/",
          "height": 34
        },
        "outputId": "28dedb9a-c96b-4ecb-ef99-b2bc8107716e"
      },
      "source": [
        "x.size"
      ],
      "execution_count": 240,
      "outputs": [
        {
          "output_type": "execute_result",
          "data": {
            "text/plain": [
              "17589"
            ]
          },
          "metadata": {
            "tags": []
          },
          "execution_count": 240
        }
      ]
    },
    {
      "cell_type": "code",
      "metadata": {
        "id": "2C62TpaVe_Va",
        "colab_type": "code",
        "colab": {
          "base_uri": "https://localhost:8080/",
          "height": 34
        },
        "outputId": "07e3ce10-942e-401c-8b7a-ff5afd7f8f05"
      },
      "source": [
        "y.size"
      ],
      "execution_count": 241,
      "outputs": [
        {
          "output_type": "execute_result",
          "data": {
            "text/plain": [
              "1599"
            ]
          },
          "metadata": {
            "tags": []
          },
          "execution_count": 241
        }
      ]
    },
    {
      "cell_type": "code",
      "metadata": {
        "id": "izsGvAmRhCob",
        "colab_type": "code",
        "colab": {
          "base_uri": "https://localhost:8080/",
          "height": 265
        },
        "outputId": "60d3f8db-1891-4061-f398-1436562c731b"
      },
      "source": [
        "plt.scatter(df['alcohol'],y)\n",
        "plt.show()"
      ],
      "execution_count": 249,
      "outputs": [
        {
          "output_type": "display_data",
          "data": {
            "image/png": "[encoded data removed]",
            "text/plain": [
              "<Figure size 432x288 with 1 Axes>"
            ]
          },
          "metadata": {
            "tags": [],
            "needs_background": "light"
          }
        }
      ]
    },
    {
      "cell_type": "code",
      "metadata": {
        "id": "o2ifJP_5Z2xb",
        "colab_type": "code",
        "colab": {
          "base_uri": "https://localhost:8080/",
          "height": 265
        },
        "outputId": "f8d0583b-fab3-47cf-f596-fd4e94732f00"
      },
      "source": [
        "#best fit line\n",
        "# Plot the best fit Line\n",
        "plt.scatter(df['alcohol'],y,c = 'r')\n",
        "plt.plot(x,model.predict(x))\n",
        "plt.show()"
      ],
      "execution_count": 250,
      "outputs": [
        {
          "output_type": "display_data",
          "data": {
            "image/png": "[encoded data removed]",
            "text/plain": [
              "<Figure size 432x288 with 1 Axes>"
            ]
          },
          "metadata": {
            "tags": [],
            "needs_background": "light"
          }
        }
      ]
    },
    {
      "cell_type": "code",
      "metadata": {
        "id": "zJeZvgNzly8O",
        "colab_type": "code",
        "colab": {}
      },
      "source": [
        "model = LinearRegression()"
      ],
      "execution_count": 210,
      "outputs": []
    },
    {
      "cell_type": "code",
      "metadata": {
        "id": "NzbdJsTUl3_M",
        "colab_type": "code",
        "colab": {
          "base_uri": "https://localhost:8080/",
          "height": 34
        },
        "outputId": "2377ebc7-3232-4818-a81e-ed2d1ed34523"
      },
      "source": [
        "model.fit(x,y)\n",
        "y_pred = model.predict([[7.8,0.76,0.04,2.3,0.092,15.0,54.0,0.9970,3.26,0.65,9.8]])\n",
        "y_pred"
      ],
      "execution_count": 211,
      "outputs": [
        {
          "output_type": "execute_result",
          "data": {
            "text/plain": [
              "array([5.20989474])"
            ]
          },
          "metadata": {
            "tags": []
          },
          "execution_count": 211
        }
      ]
    },
    {
      "cell_type": "code",
      "metadata": {
        "id": "P2xoIrppIjWc",
        "colab_type": "code",
        "colab": {}
      },
      "source": [
        "from sklearn.model_selection import train_test_split\n",
        "\n",
        "x_train,x_test,y_train,y_test = train_test_split(x,y,test_size = 0.3,random_state = 25)"
      ],
      "execution_count": 218,
      "outputs": []
    },
    {
      "cell_type": "code",
      "metadata": {
        "id": "mdB-Pc5LIk8a",
        "colab_type": "code",
        "colab": {
          "base_uri": "https://localhost:8080/",
          "height": 1000
        },
        "outputId": "a0c130a5-0089-41f4-9460-317caa1ee221"
      },
      "source": [
        "from sklearn.linear_model import LinearRegression\n",
        "model = LinearRegression()\n",
        "model.fit(x_train,y_train) \n",
        "y_pred = model.predict(x_test)\n",
        "y_pred"
      ],
      "execution_count": 219,
      "outputs": [
        {
          "output_type": "execute_result",
          "data": {
            "text/plain": [
              "array([6.17047831, 6.01694607, 5.33591018, 5.28080248, 4.96161561,\n",
              "       6.3496961 , 5.90062976, 5.85196883, 4.96547022, 6.0378832 ,\n",
              "       5.33238252, 6.05857167, 5.31194024, 5.44407343, 5.70478018,\n",
              "       5.79041158, 6.06718096, 5.28751562, 5.33827198, 6.21134977,\n",
              "       6.51099877, 5.81801747, 5.95631152, 5.13401068, 5.33681632,\n",
              "       5.06592262, 6.29042003, 5.28824091, 6.42601521, 5.36793867,\n",
              "       5.28770821, 6.11616461, 5.91984421, 6.00280292, 5.79427225,\n",
              "       5.16968623, 6.30842318, 6.23023128, 5.12512753, 5.40988715,\n",
              "       5.45506578, 5.88957155, 5.71043805, 6.40727207, 6.63234738,\n",
              "       5.42276696, 5.52808843, 5.35187785, 4.23387034, 5.91517028,\n",
              "       5.54737837, 5.74181088, 5.63510731, 5.91722515, 5.72275231,\n",
              "       5.33281088, 6.04322745, 5.13372939, 5.93825789, 6.09909436,\n",
              "       5.11271385, 6.26172846, 5.60771741, 6.22882869, 5.05192797,\n",
              "       5.20884568, 5.22130179, 5.86908086, 5.54845526, 6.19597402,\n",
              "       5.72851854, 5.78922889, 5.03805622, 4.99303249, 5.08568866,\n",
              "       5.72487883, 6.10813398, 5.53766644, 5.69674018, 5.57981147,\n",
              "       5.12207466, 5.27266996, 5.49823653, 6.37670883, 5.96474265,\n",
              "       5.45557519, 5.83452083, 6.2196306 , 5.71043805, 5.04541097,\n",
              "       5.01622756, 5.12308437, 5.4819935 , 5.32404189, 5.37437879,\n",
              "       5.59801607, 6.21344512, 5.79563558, 5.28666214, 6.26648691,\n",
              "       4.62797478, 5.29136484, 5.33467132, 7.64283   , 5.73218741,\n",
              "       5.65939766, 5.35825292, 5.11840644, 5.19634315, 5.78982353,\n",
              "       5.70566033, 5.78484666, 5.67570709, 4.7948915 , 5.6661873 ,\n",
              "       5.16974056, 5.19963873, 5.3785782 , 5.99850757, 6.26371451,\n",
              "       5.77049395, 5.86699347, 6.13530241, 6.46192619, 6.52712235,\n",
              "       6.19388789, 6.13297188, 5.86410151, 5.10441667, 5.08820328,\n",
              "       5.56515368, 5.85654675, 5.83462514, 5.40567977, 5.08701261,\n",
              "       5.1851144 , 5.27763624, 5.84085852, 5.29099556, 5.36015314,\n",
              "       5.20938261, 5.57932508, 5.26628493, 4.90460056, 6.09841978,\n",
              "       5.26396001, 5.04884119, 5.72466922, 5.49846629, 5.92804537,\n",
              "       4.68112993, 5.89441971, 5.42466056, 5.03976457, 5.62498483,\n",
              "       4.87492582, 5.45402231, 5.26514384, 5.43523009, 5.72059901,\n",
              "       6.86298852, 5.23618508, 5.57104508, 5.19820423, 4.88316085,\n",
              "       6.13925338, 6.08754273, 5.54375975, 5.48722432, 6.61049978,\n",
              "       6.39548784, 6.26997094, 5.64975333, 5.21649889, 5.02533109,\n",
              "       6.07991582, 5.76986963, 5.04484975, 6.08106173, 5.2622865 ,\n",
              "       6.42807631, 5.11151152, 5.6734936 , 5.77038874, 6.20629513,\n",
              "       5.83637673, 6.32768778, 6.02656491, 5.06382673, 5.6838928 ,\n",
              "       6.20374309, 5.8008185 , 5.98243043, 5.05289513, 5.14867678,\n",
              "       5.60181073, 5.12686285, 6.02855289, 5.89141355, 5.51302407,\n",
              "       5.36588526, 6.56582353, 6.63370437, 5.34476996, 6.18078605,\n",
              "       5.36037073, 5.36866596, 6.95366256, 5.40763053, 6.47373191,\n",
              "       5.0202924 , 5.33468986, 6.71700734, 5.02910123, 5.93426176,\n",
              "       5.76262971, 6.61715182, 6.27302581, 5.55017302, 4.8799082 ,\n",
              "       6.13293144, 5.39880031, 5.97360362, 4.8378042 , 5.14252015,\n",
              "       5.8255811 , 6.53144431, 5.06486361, 5.73509023, 5.01578668,\n",
              "       4.64153916, 5.19982634, 6.11227498, 5.71961322, 6.7121749 ,\n",
              "       6.16234017, 6.0447923 , 5.70437139, 5.33652018, 6.39384958,\n",
              "       6.4275673 , 6.05132913, 5.68236174, 5.49834038, 5.08251664,\n",
              "       5.04646505, 6.3078603 , 5.8435609 , 4.78707633, 4.92582045,\n",
              "       5.12049554, 5.13093122, 6.23064745, 6.3572499 , 5.96771937,\n",
              "       5.74672429, 5.32503972, 5.79743715, 4.86810015, 4.9779256 ,\n",
              "       5.12931155, 4.99017056, 5.23090275, 5.44519134, 6.38648402,\n",
              "       6.24023678, 5.9089987 , 5.69134731, 5.13805762, 5.98169146,\n",
              "       5.58945526, 5.44348515, 4.73569332, 5.23004435, 5.40035456,\n",
              "       5.68959015, 5.91381306, 5.50455969, 5.33263204, 6.1578788 ,\n",
              "       5.44508251, 5.52053989, 5.84593063, 6.32747141, 6.59400987,\n",
              "       5.35657317, 5.87129377, 5.19193106, 6.46481709, 6.37363916,\n",
              "       5.12743187, 4.88312458, 5.07192768, 6.12136287, 5.50852579,\n",
              "       5.35657317, 4.80110431, 5.27763624, 4.97818233, 6.33540251,\n",
              "       5.81507409, 6.71578383, 6.24023678, 5.66174043, 5.74591011,\n",
              "       5.39934441, 5.42215156, 6.11569826, 5.8255811 , 5.26354685,\n",
              "       4.65467919, 5.70475893, 5.37050243, 5.55432018, 6.49214679,\n",
              "       6.22705723, 5.52908433, 6.18037725, 6.66445499, 5.76262971,\n",
              "       5.35307033, 5.69899221, 5.98157582, 5.66967621, 5.17122252,\n",
              "       5.65013856, 5.4147181 , 5.26247681, 5.25849559, 5.67307674,\n",
              "       6.32742093, 6.16234017, 6.08025961, 5.34527657, 5.10062048,\n",
              "       5.21446231, 4.87545086, 6.0590837 , 4.81129484, 5.33591018,\n",
              "       6.00920603, 6.15240206, 6.18887461, 5.67505214, 5.37807288,\n",
              "       6.35758601, 5.05882788, 5.3259754 , 4.76231463, 5.38980035,\n",
              "       5.08303019, 5.6067603 , 6.02781887, 5.58207185, 5.15029014,\n",
              "       5.01194403, 6.36104728, 5.31492361, 6.0447923 , 5.35814941,\n",
              "       5.57251326, 6.48975409, 6.22036297, 5.20511881, 5.82968454,\n",
              "       5.67623401, 4.98476671, 5.7044367 , 5.26747565, 6.41063011,\n",
              "       6.84924593, 5.13787669, 5.61928079, 5.78388141, 6.90167387,\n",
              "       5.94383782, 5.00369708, 5.87960276, 5.57263113, 5.47546434,\n",
              "       5.75318389, 5.5217256 , 5.05712944, 5.11537812, 5.05882788,\n",
              "       4.95987602, 5.42170357, 5.78350356, 5.02426972, 6.01879826,\n",
              "       6.08195968, 6.2588857 , 5.71461415, 6.12993339, 6.06929007,\n",
              "       6.03374438, 6.09719764, 6.71700734, 5.32503972, 5.57210423,\n",
              "       5.06027105, 5.68037902, 5.15803957, 4.84482623, 6.24576951,\n",
              "       5.39934441, 5.31782007, 6.54952822, 5.76670832, 5.80228282,\n",
              "       4.93512531, 4.93996603, 5.8726612 , 4.78604311, 5.05314751,\n",
              "       6.21284253, 5.76670832, 5.14589989, 5.66969676, 5.85276493,\n",
              "       5.38700186, 6.32768778, 6.24576951, 6.60179237, 6.02739733,\n",
              "       6.95207748, 5.03829968, 5.33238252, 5.32738989, 4.39526377,\n",
              "       5.23978537, 6.10363358, 5.34562648, 5.59847292, 5.4427181 ,\n",
              "       6.09909436, 5.55998414, 5.86959636, 5.12207466, 5.42547027,\n",
              "       5.38012888, 4.97818233, 5.51302407, 5.40048217, 5.54161415,\n",
              "       6.36423739, 6.24859399, 6.32787828, 6.15112507, 6.88321406,\n",
              "       6.04748741, 5.91984421, 5.94073682, 5.72871471, 5.76755116,\n",
              "       6.26371451, 5.2242409 , 5.48801364, 5.86632098, 5.1231369 ,\n",
              "       6.61801488, 5.79081149, 6.16723862, 5.35564667, 5.55782326,\n",
              "       4.92633697, 5.22012541, 6.28494829, 5.05289513, 5.092231  ,\n",
              "       5.80632953, 6.49214679, 5.75206853, 5.94933824, 5.49394122,\n",
              "       4.91284704, 6.63938612, 5.83900749, 5.12083526, 5.29781278])"
            ]
          },
          "metadata": {
            "tags": []
          },
          "execution_count": 219
        }
      ]
    },
    {
      "cell_type": "code",
      "metadata": {
        "id": "i_LSIwdOIxzM",
        "colab_type": "code",
        "colab": {
          "base_uri": "https://localhost:8080/",
          "height": 34
        },
        "outputId": "53d8e4ed-e6b7-4a57-ab1a-5431463d9d3a"
      },
      "source": [
        "from sklearn import metrics\n",
        "metrics.mean_squared_error(y_test,y_pred)"
      ],
      "execution_count": 220,
      "outputs": [
        {
          "output_type": "execute_result",
          "data": {
            "text/plain": [
              "0.40787994512893033"
            ]
          },
          "metadata": {
            "tags": []
          },
          "execution_count": 220
        }
      ]
    },
    {
      "cell_type": "code",
      "metadata": {
        "id": "5eKfJoJ_JBjU",
        "colab_type": "code",
        "colab": {
          "base_uri": "https://localhost:8080/",
          "height": 34
        },
        "outputId": "706644dc-7267-4423-c8c5-9f0d6959c3f7"
      },
      "source": [
        "metrics.r2_score(y_test,y_pred)*100"
      ],
      "execution_count": 221,
      "outputs": [
        {
          "output_type": "execute_result",
          "data": {
            "text/plain": [
              "33.939138343756625"
            ]
          },
          "metadata": {
            "tags": []
          },
          "execution_count": 221
        }
      ]
    },
    {
      "cell_type": "code",
      "metadata": {
        "id": "evWWI0lPnxeu",
        "colab_type": "code",
        "colab": {}
      },
      "source": [
        "#K-neighbours\n",
        "from sklearn.neighbors import KNeighborsClassifier\n",
        "model = KNeighborsClassifier(n_neighbors=39,metric = 'euclidean')"
      ],
      "execution_count": 177,
      "outputs": []
    },
    {
      "cell_type": "code",
      "metadata": {
        "id": "v4cwivDLg0gd",
        "colab_type": "code",
        "colab": {
          "base_uri": "https://localhost:8080/",
          "height": 34
        },
        "outputId": "eea7c652-7219-409b-843f-fc45197ce1a3"
      },
      "source": [
        "model.fit(x,y)\n",
        "y_pred = model.predict([[7.8,0.76,0.04,2.3,0.092,15.0,54.0,0.9970,3.26,0.65,9.8]])\n",
        "y_pred"
      ],
      "execution_count": 178,
      "outputs": [
        {
          "output_type": "execute_result",
          "data": {
            "text/plain": [
              "array([5])"
            ]
          },
          "metadata": {
            "tags": []
          },
          "execution_count": 178
        }
      ]
    },
    {
      "cell_type": "code",
      "metadata": {
        "id": "ae9O04h4g6uG",
        "colab_type": "code",
        "colab": {}
      },
      "source": [
        "from sklearn.model_selection import train_test_split\n",
        "x_train,x_test,y_train,y_test = train_test_split(x,y,test_size = 0.3, random_state = 11)"
      ],
      "execution_count": 222,
      "outputs": []
    },
    {
      "cell_type": "code",
      "metadata": {
        "id": "O1Q4biAZjLai",
        "colab_type": "code",
        "colab": {
          "base_uri": "https://localhost:8080/",
          "height": 34
        },
        "outputId": "501019c4-3ae9-44a4-bfa2-54b108fc627c"
      },
      "source": [
        "x_train.shape"
      ],
      "execution_count": 223,
      "outputs": [
        {
          "output_type": "execute_result",
          "data": {
            "text/plain": [
              "(1119, 11)"
            ]
          },
          "metadata": {
            "tags": []
          },
          "execution_count": 223
        }
      ]
    },
    {
      "cell_type": "code",
      "metadata": {
        "id": "qgEYIhM6jrMI",
        "colab_type": "code",
        "colab": {
          "base_uri": "https://localhost:8080/",
          "height": 386
        },
        "outputId": "2004d584-f61e-461d-fe58-bf35dae18bd5"
      },
      "source": [
        "model = KNeighborsClassifier(n_neighbors=33,metric = 'euclidean')\n",
        "model.fit(x_train,y_train)\n",
        "y_pred = model.predict(x_test)\n",
        "y_pred"
      ],
      "execution_count": 224,
      "outputs": [
        {
          "output_type": "execute_result",
          "data": {
            "text/plain": [
              "array([5, 6, 5, 5, 5, 5, 6, 5, 6, 6, 6, 5, 5, 6, 5, 5, 6, 6, 5, 6, 5, 6,\n",
              "       6, 6, 6, 5, 5, 5, 5, 6, 6, 5, 6, 6, 6, 6, 5, 5, 6, 5, 5, 5, 6, 5,\n",
              "       5, 5, 6, 6, 6, 6, 6, 7, 6, 5, 6, 6, 6, 6, 5, 5, 5, 5, 6, 5, 7, 5,\n",
              "       6, 5, 5, 6, 5, 5, 6, 5, 5, 6, 6, 5, 6, 5, 5, 5, 5, 5, 6, 6, 5, 6,\n",
              "       6, 6, 5, 5, 5, 6, 6, 5, 5, 5, 6, 5, 5, 5, 6, 6, 6, 5, 6, 6, 5, 5,\n",
              "       6, 5, 6, 5, 5, 5, 6, 6, 5, 5, 5, 5, 5, 5, 5, 5, 5, 5, 5, 6, 5, 6,\n",
              "       6, 5, 6, 5, 6, 5, 6, 5, 6, 5, 5, 5, 5, 5, 6, 5, 5, 5, 5, 6, 5, 5,\n",
              "       6, 5, 6, 6, 6, 6, 6, 5, 6, 5, 5, 6, 5, 6, 5, 6, 5, 5, 6, 5, 6, 6,\n",
              "       5, 6, 5, 6, 5, 5, 6, 6, 5, 5, 5, 6, 5, 5, 6, 6, 6, 6, 5, 6, 5, 6,\n",
              "       7, 6, 7, 6, 5, 5, 6, 5, 5, 5, 5, 6, 5, 6, 6, 6, 5, 6, 6, 5, 6, 5,\n",
              "       5, 5, 5, 5, 5, 5, 5, 5, 6, 6, 6, 6, 5, 5, 5, 6, 6, 5, 5, 5, 6, 5,\n",
              "       6, 6, 5, 5, 5, 5, 6, 6, 6, 6, 5, 6, 6, 5, 5, 6, 5, 5, 5, 5, 5, 5,\n",
              "       5, 6, 5, 5, 5, 5, 7, 5, 5, 6, 5, 5, 6, 5, 5, 6, 6, 5, 5, 6, 6, 5,\n",
              "       5, 6, 5, 5, 5, 5, 5, 6, 6, 6, 6, 5, 6, 5, 5, 5, 5, 5, 6, 5, 5, 6,\n",
              "       5, 6, 6, 6, 5, 6, 6, 6, 6, 5, 5, 5, 6, 6, 6, 5, 6, 5, 6, 6, 5, 6,\n",
              "       5, 5, 6, 5, 6, 5, 6, 6, 5, 5, 6, 6, 6, 5, 5, 5, 5, 5, 5, 5, 6, 6,\n",
              "       6, 6, 6, 5, 6, 5, 5, 6, 6, 6, 6, 5, 5, 5, 5, 5, 5, 5, 6, 5, 5, 6,\n",
              "       5, 5, 6, 5, 6, 5, 6, 5, 6, 6, 5, 6, 6, 6, 5, 5, 7, 6, 6, 5, 6, 6,\n",
              "       5, 6, 6, 6, 5, 5, 6, 6, 5, 5, 6, 6, 6, 5, 6, 6, 6, 5, 6, 6, 5, 6,\n",
              "       6, 5, 5, 5, 5, 5, 5, 7, 6, 5, 5, 6, 5, 5, 6, 5, 5, 6, 5, 5, 5, 5,\n",
              "       6, 6, 6, 6, 6, 5, 5, 6, 6, 5, 6, 5, 6, 5, 5, 6, 5, 6, 6, 5, 5, 5,\n",
              "       6, 5, 5, 6, 6, 5, 5, 5, 6, 5, 6, 5, 6, 5, 6, 5, 6, 6])"
            ]
          },
          "metadata": {
            "tags": []
          },
          "execution_count": 224
        }
      ]
    },
    {
      "cell_type": "code",
      "metadata": {
        "id": "pahfu560j92F",
        "colab_type": "code",
        "colab": {
          "base_uri": "https://localhost:8080/",
          "height": 34
        },
        "outputId": "89b0e019-38a6-44df-e583-5e3cdf3493c5"
      },
      "source": [
        "from sklearn.metrics import accuracy_score\n",
        "accuracy_score(y_test,y_pred)*100"
      ],
      "execution_count": 225,
      "outputs": [
        {
          "output_type": "execute_result",
          "data": {
            "text/plain": [
              "52.29166666666667"
            ]
          },
          "metadata": {
            "tags": []
          },
          "execution_count": 225
        }
      ]
    },
    {
      "cell_type": "code",
      "metadata": {
        "id": "M4lvO45LATFa",
        "colab_type": "code",
        "colab": {
          "base_uri": "https://localhost:8080/",
          "height": 118
        },
        "outputId": "b35e2ac1-0ebf-4a8d-fc54-bc7e629660fb"
      },
      "source": [
        "from sklearn.metrics import confusion_matrix\n",
        "confusion_matrix(y_test,y_pred)"
      ],
      "execution_count": 226,
      "outputs": [
        {
          "output_type": "execute_result",
          "data": {
            "text/plain": [
              "array([[  0,   0,   3,   1,   0,   0],\n",
              "       [  0,   0,  10,   6,   0,   0],\n",
              "       [  0,   0, 139,  59,   0,   0],\n",
              "       [  0,   0,  90, 106,   1,   0],\n",
              "       [  0,   0,  17,  37,   6,   0],\n",
              "       [  0,   0,   0,   5,   0,   0]])"
            ]
          },
          "metadata": {
            "tags": []
          },
          "execution_count": 226
        }
      ]
    },
    {
      "cell_type": "code",
      "metadata": {
        "id": "BDV3EgneCNL2",
        "colab_type": "code",
        "colab": {
          "base_uri": "https://localhost:8080/",
          "height": 289
        },
        "outputId": "b34d15c0-43f6-4314-8155-1ea7db3bb812"
      },
      "source": [
        "from sklearn.metrics import classification_report\n",
        "print(classification_report(y_test,y_pred))"
      ],
      "execution_count": 227,
      "outputs": [
        {
          "output_type": "stream",
          "text": [
            "              precision    recall  f1-score   support\n",
            "\n",
            "           3       0.00      0.00      0.00         4\n",
            "           4       0.00      0.00      0.00        16\n",
            "           5       0.54      0.70      0.61       198\n",
            "           6       0.50      0.54      0.52       197\n",
            "           7       0.86      0.10      0.18        60\n",
            "           8       0.00      0.00      0.00         5\n",
            "\n",
            "    accuracy                           0.52       480\n",
            "   macro avg       0.31      0.22      0.22       480\n",
            "weighted avg       0.53      0.52      0.49       480\n",
            "\n"
          ],
          "name": "stdout"
        },
        {
          "output_type": "stream",
          "text": [
            "/usr/local/lib/python3.6/dist-packages/sklearn/metrics/_classification.py:1272: UndefinedMetricWarning: Precision and F-score are ill-defined and being set to 0.0 in labels with no predicted samples. Use `zero_division` parameter to control this behavior.\n",
            "  _warn_prf(average, modifier, msg_start, len(result))\n"
          ],
          "name": "stderr"
        }
      ]
    },
    {
      "cell_type": "code",
      "metadata": {
        "id": "N9J7j1p2kFJP",
        "colab_type": "code",
        "colab": {}
      },
      "source": [
        "#scaling for better accuracy score\n",
        "from sklearn.preprocessing import MinMaxScaler\n",
        "scaler = MinMaxScaler()\n",
        "x_train = scaler.fit_transform(x_train)\n",
        "x_test = scaler.transform(x_test)"
      ],
      "execution_count": 228,
      "outputs": []
    },
    {
      "cell_type": "code",
      "metadata": {
        "id": "jBO4198WDK9a",
        "colab_type": "code",
        "colab": {
          "base_uri": "https://localhost:8080/",
          "height": 235
        },
        "outputId": "9f54d9e2-f1a2-4b93-f4e6-b3464f5c0911"
      },
      "source": [
        "x_train"
      ],
      "execution_count": 229,
      "outputs": [
        {
          "output_type": "execute_result",
          "data": {
            "text/plain": [
              "array([[0.43362832, 0.29452055, 0.86842105, ..., 0.29807692, 0.20987654,\n",
              "        0.18461538],\n",
              "       [0.26548673, 0.19178082, 0.38157895, ..., 0.56730769, 0.16049383,\n",
              "        0.16923077],\n",
              "       [0.02654867, 0.20547945, 0.        , ..., 0.81730769, 0.25308642,\n",
              "        0.86153846],\n",
              "       ...,\n",
              "       [0.32743363, 0.5       , 0.18421053, ..., 0.48076923, 0.12962963,\n",
              "        0.26153846],\n",
              "       [0.21238938, 0.39041096, 0.09210526, ..., 0.5       , 0.16666667,\n",
              "        0.44615385],\n",
              "       [0.30088496, 0.24657534, 0.44736842, ..., 0.40384615, 0.2037037 ,\n",
              "        0.61538462]])"
            ]
          },
          "metadata": {
            "tags": []
          },
          "execution_count": 229
        }
      ]
    },
    {
      "cell_type": "code",
      "metadata": {
        "id": "2bq756-rkqBu",
        "colab_type": "code",
        "colab": {}
      },
      "source": [
        "model = KNeighborsClassifier(n_neighbors=33)"
      ],
      "execution_count": 230,
      "outputs": []
    },
    {
      "cell_type": "code",
      "metadata": {
        "id": "W29rmPLSk7I-",
        "colab_type": "code",
        "colab": {
          "base_uri": "https://localhost:8080/",
          "height": 386
        },
        "outputId": "ee029204-cdb9-48d6-890d-cb7237417e60"
      },
      "source": [
        "model.fit(x_train,y_train)\n",
        "y_pred = model.predict(x_test)\n",
        "y_pred"
      ],
      "execution_count": 231,
      "outputs": [
        {
          "output_type": "execute_result",
          "data": {
            "text/plain": [
              "array([6, 5, 5, 6, 5, 5, 7, 5, 6, 6, 6, 6, 5, 5, 5, 5, 5, 7, 6, 5, 5, 6,\n",
              "       5, 6, 6, 6, 5, 6, 5, 6, 6, 6, 6, 6, 7, 5, 5, 6, 5, 5, 5, 5, 5, 5,\n",
              "       5, 6, 6, 6, 6, 5, 6, 7, 5, 6, 6, 6, 5, 6, 6, 5, 5, 6, 6, 6, 7, 5,\n",
              "       6, 5, 5, 6, 6, 6, 6, 6, 5, 6, 6, 5, 6, 6, 5, 5, 5, 5, 6, 6, 6, 6,\n",
              "       6, 6, 5, 5, 6, 6, 5, 6, 5, 5, 5, 5, 5, 5, 6, 6, 6, 5, 6, 5, 6, 5,\n",
              "       6, 5, 5, 5, 5, 6, 6, 6, 5, 5, 5, 5, 5, 6, 5, 6, 5, 5, 5, 5, 5, 6,\n",
              "       6, 5, 6, 6, 6, 5, 6, 7, 5, 5, 5, 5, 5, 5, 6, 6, 5, 5, 5, 6, 6, 5,\n",
              "       7, 5, 6, 6, 6, 6, 6, 5, 6, 6, 5, 5, 6, 7, 6, 7, 6, 6, 6, 6, 7, 6,\n",
              "       5, 7, 6, 5, 5, 5, 6, 6, 6, 5, 6, 6, 5, 5, 6, 6, 6, 6, 5, 5, 5, 5,\n",
              "       6, 7, 6, 6, 5, 6, 6, 6, 5, 5, 5, 6, 5, 6, 6, 5, 5, 5, 6, 6, 6, 6,\n",
              "       5, 5, 5, 6, 5, 6, 5, 5, 6, 5, 6, 6, 6, 5, 6, 6, 5, 5, 6, 5, 5, 5,\n",
              "       6, 6, 5, 5, 6, 5, 6, 5, 5, 6, 6, 5, 6, 6, 5, 6, 6, 6, 5, 5, 5, 5,\n",
              "       5, 6, 5, 5, 5, 6, 7, 5, 5, 6, 6, 5, 7, 6, 5, 6, 6, 5, 6, 6, 6, 5,\n",
              "       6, 7, 5, 7, 5, 6, 5, 5, 6, 7, 6, 5, 7, 5, 5, 5, 5, 5, 5, 5, 5, 6,\n",
              "       5, 6, 6, 6, 5, 6, 6, 6, 5, 5, 6, 7, 6, 6, 6, 5, 6, 5, 5, 7, 5, 6,\n",
              "       5, 5, 6, 6, 5, 6, 5, 6, 5, 5, 6, 6, 6, 5, 6, 5, 6, 5, 5, 5, 5, 6,\n",
              "       6, 6, 6, 5, 6, 5, 6, 6, 6, 6, 6, 5, 5, 5, 5, 6, 6, 7, 5, 6, 5, 6,\n",
              "       5, 6, 5, 5, 6, 5, 6, 5, 5, 6, 5, 6, 6, 6, 5, 6, 6, 5, 5, 6, 5, 6,\n",
              "       5, 6, 6, 7, 5, 5, 5, 6, 5, 5, 6, 5, 5, 5, 6, 5, 6, 6, 5, 6, 6, 6,\n",
              "       6, 5, 5, 5, 5, 5, 5, 6, 6, 6, 6, 6, 5, 5, 5, 5, 5, 6, 5, 5, 5, 7,\n",
              "       6, 6, 7, 6, 6, 5, 5, 6, 6, 6, 6, 5, 7, 5, 5, 6, 5, 6, 6, 6, 5, 5,\n",
              "       5, 6, 6, 5, 5, 5, 6, 6, 6, 5, 6, 5, 5, 5, 6, 5, 6, 6])"
            ]
          },
          "metadata": {
            "tags": []
          },
          "execution_count": 231
        }
      ]
    },
    {
      "cell_type": "code",
      "metadata": {
        "id": "sJ3KJPudk-xd",
        "colab_type": "code",
        "colab": {
          "base_uri": "https://localhost:8080/",
          "height": 34
        },
        "outputId": "84485824-058d-4f7f-ef7e-fbe3da8a1692"
      },
      "source": [
        "from sklearn.metrics import accuracy_score\n",
        "accuracy_score(y_test,y_pred)*100"
      ],
      "execution_count": 232,
      "outputs": [
        {
          "output_type": "execute_result",
          "data": {
            "text/plain": [
              "59.791666666666664"
            ]
          },
          "metadata": {
            "tags": []
          },
          "execution_count": 232
        }
      ]
    },
    {
      "cell_type": "code",
      "metadata": {
        "id": "GoF0jUn2o1uz",
        "colab_type": "code",
        "colab": {
          "base_uri": "https://localhost:8080/",
          "height": 34
        },
        "outputId": "75385791-e082-4594-f776-7e97717a7b97"
      },
      "source": [
        "y1 = scaler.transform([[6.3,0.510,0.13,2.3,0.076,29.0,40.0,0.99574,3.42,0.75,11.0]])\n",
        "y1 = model.predict(y1)\n",
        "y1"
      ],
      "execution_count": 233,
      "outputs": [
        {
          "output_type": "execute_result",
          "data": {
            "text/plain": [
              "array([6])"
            ]
          },
          "metadata": {
            "tags": []
          },
          "execution_count": 233
        }
      ]
    },
    {
      "cell_type": "code",
      "metadata": {
        "id": "jTIJmqjV1Z7D",
        "colab_type": "code",
        "colab": {}
      },
      "source": [
        ""
      ],
      "execution_count": 233,
      "outputs": []
    }
  ]
}